{
 "cells": [
  {
   "cell_type": "markdown",
   "id": "02483bf1-8b6f-496a-bb04-2d3873980e13",
   "metadata": {
    "tags": []
   },
   "source": [
    "# MAS 4106 Final Project\n",
    "\n",
    "**Authors**: Benton Stacy (bmstacy7127@eagle.fgcu.edu) and Katarya Johnson-Williams (kajohnsonwilliam3168@eagle.fgcu.edu)\n",
    "\n",
    "**Abstract**:\n",
    "The reason for writing this report is to explore the possible ways to predict years of education using census data. The processes and methods developed in this report could be applied to future census data to create an effective method of predicting significant census attributes. The problem this report seeks to solve is identifying patterns in the data provided by the census that can be used to predict years of education an individual has completed. A secondary problem the methodology in this report can be used to solve is to fill in missing data points in the census data. This report creates ten models that analyze the 15 different attributes included with the data in addition to adding two additional attributes (gross domestic product and Human Development Index for native countries). The models use a least squares solution which is validated by cross-validation. The results of this report did not find high variance in the error of each model but did make interesting discoveries regarding the relationship between the attributes indicating education and the native country of an individual. The overall conclusion made is that the United States population is significantly diverse and therefore it is difficult to accurately predict values such as years of education. The results of this report leave many avenues for future work including applying the models created to modern census data or adding additional census attributes (i.e. number of children or parental education levels) to see how these attributes affect the model. "
   ]
  },
  {
   "cell_type": "markdown",
   "id": "60e2240a-8e48-4e03-b22d-8dd656942f14",
   "metadata": {
    "tags": []
   },
   "source": [
    "## Initialize the Dataset"
   ]
  },
  {
   "cell_type": "code",
   "execution_count": 1,
   "id": "f7c31c75-1d05-46d7-920c-ae307128f81f",
   "metadata": {
    "tags": []
   },
   "outputs": [
    {
     "data": {
      "text/plain": [
       "45222"
      ]
     },
     "execution_count": 1,
     "metadata": {},
     "output_type": "execute_result"
    }
   ],
   "source": [
    "# Load packages\n",
    "using CSV, DataFrames, LinearAlgebra, Missings # For dataset loading and processing, running least-squares calculations.\n",
    "using Plots, Measures, StatsPlots # For plotting results. Measures used for better plot margins. \n",
    "using Random # For generating random permutations.\n",
    "using LaTeXStrings # For generating beautiful TeX-like equations in plots.\n",
    "\n",
    "# Set up a few variables for the filepath of this file.\n",
    "# NOTE: You may need to change this directory based on where your dataset is stored.\n",
    "    # By default, it assumes the dataset is stored in (root)\\Data Sets\\Adult\n",
    "root = dirname(@__FILE__) \n",
    "filename = \"adult_full.csv\"; \n",
    "filepath = joinpath(root, \"Data Sets\", \"Adult\", filename); \n",
    "\n",
    "# Read the dataset from the filepath.\n",
    "adultDataSet = CSV.read(filepath,DataFrame;header=true, missingstring=\"?\"); \n",
    "# There aren't too many missing values, so drop them.\n",
    "adultDataSet = dropmissing(adultDataSet, disallowmissing=true) \n",
    "\n",
    "# Number of entries in the dataset\n",
    "m = length(adultDataSet[:,1])"
   ]
  },
  {
   "cell_type": "markdown",
   "id": "8d97bc12-6255-4123-83aa-95b3f075d7b7",
   "metadata": {
    "tags": []
   },
   "source": [
    "## Construction of the Columns"
   ]
  },
  {
   "cell_type": "markdown",
   "id": "a3db59e8-fae6-487a-8a56-9c19861a260d",
   "metadata": {},
   "source": [
    "The original dataset, after removing missing entries, has 45222 entries and 15 attributes, namely:\n",
    "\n",
    "1. Age – age of the individual. This data is numerical, in whole numbers of years.\n",
    "2. Work Class – sector the individual works in (government, private, self-employed, not working). The mode of this attribute was private, with nearly 75% of the entries.\n",
    "3. Final Weight – a (continuous) number estimating the number of people in the United States population which matches the individual’s demographics. This value considers the potential for sampling bias in the census and assigns a \"weight\" to the person based on their demographics. Final weight may be calculated at the federal, state, or local level and thus values in this category may not be consistent.\n",
    "4. Education – label describing the highest level of education completed. \n",
    "5. Education Number – arbitrary number assigned according to education label. \n",
    "6. Marital Status – current marital status of the individual (single, married, previously married).\n",
    "7. Occupation – a variety of labels of the general job title of the individual. \n",
    "8. Relationship – a label of the relationship the individual has (wife, husband, unmarried, child, not in family).\n",
    "9. Race – the race of the individual (white, Asian/Pacific Islander, Native American (“American Indian/Eskimo” in the data), black, other). \n",
    "10. Sex – the sex of the individual (male, female).\n",
    "11. Capital Gain – a continuous category which measures an individual’s capital gain. Note that this is different from income and might include income earned via stocks and investments.\n",
    "12. Capital Loss – a continuous category which measures an individual’s capital loss.\n",
    "13. Hours Worked per Week – a numerical category which details the number of hours per week an individual works. \n",
    "14. Native Country – a label describing an individual’s native country. This attribute is highly skewed, with the mode of United States comprising of over 91% of the data.\n",
    "15. Income Level – a Boolean (true/false) attribute which describes if the individual made a yearly income of greater than $50,000.\n",
    "\n",
    "\n",
    "To process the data for purposes of creating and testing the models, the columns were modified as follows:\n",
    "* Removed attributes:\n",
    "    * Final weight – found to be inconsistently calculated across censuses, states, and local jurisdictions. In addition, information on final weight in the dataset documentation lacked sufficient detail.\n",
    "    * Capital gain and capital loss – the original dataset documentation lacked sufficient detail on these columns. Also, theese attributes are *highly* skewed towards zero, thus providing little prediction power.\n",
    "    * Education number – the original values seemed arbitrary. These values were replaced with a custom scale.\n",
    "    * Relationship – little detail found in the original documentation. Similar in nature to the marital status attribute so that was used instead.\n",
    "* Modified attributes:\n",
    "    * Work class – separated into three columns based on the economic sector the individual is employed in: private sector, self-employed, or public (government). A fourth implicit column is used for those not working.\n",
    "    * Education – the values were replaced with a scale based on the typical number of years an individual of that category would be expected to have completed. For example, a value of `10th` likely indicates around 11 years of schooling.\n",
    "    * Marital status – labels were separated into two columns to represent single and married individuals. An implicit third column is used for those who have been previously married.\n",
    "    * Occupation – labels were assigned one of five general occupational categories: engineering, business, technical, non-degree, and governmental jobs. The first four categories were assigned a column and the last one (government) was implicit.\n",
    "    * Race – labels were assigned into four separate columns: white, Asian / Pacific-Islander, Native American (represented as `Amer-Indian-Eskimo`), and black. A fifth implicit column is designated fore those with the race label `other`.\n",
    "    * Sex – transformed from a boolean variable into a numnerical one. Male is represented as \"0\" and female is represented as \"1\".\n",
    "    * Native country – labels were assigned one of four categories based on the continent the country is located in: North America, South America, Asia, and Europe. The \"Europe\" column is implicit.\n",
    "* Added attributes:\n",
    "    * [Gross domestic product (GDP)](https://countryeconomy.com/gdp?year=1994) – a continuous value which represents the market value of the country's total goods and services produced over the year. The column consists of each applicable native country's 1994 GDP in $ millions USD, not accounting for inflation. GDP can be used as a secondary economic indicator for an individual by proxy of their native country.\n",
    "    * [Human development index (HDI)](https://hdr.undp.org/data-center/human-development-index#/indicies/HDI) – an aggregate value on a continuous scale from 0 to 1, where higher values represent a higher level of human development. The formula for HDI calculations involve expected education levels, the country's GDP, and life expectancy. 1990 HDI data was extracted for the purposes of this program.\n",
    "    \n",
    "The revised dataset has 12 attributes. Attributes of more than one column have their columns listed. Implicit columns are *italicized*.\n",
    "\n",
    "1. Age\n",
    "2. Work Class\n",
    "    - Private\n",
    "    - Self-employed\n",
    "    - Government\n",
    "    - *Not working*\n",
    "3. Education (years)\n",
    "4. Marital Status\n",
    "    - Single\n",
    "    - Married\n",
    "    - *Previously married*\n",
    "5. Occupation\n",
    "    - Engineering\n",
    "    - Business\n",
    "    - Technical\n",
    "    - Non-degree\n",
    "    - *Government*\n",
    "6. Race\n",
    "    - White\n",
    "    - Asian / Pacific-Islander\n",
    "    - Native American\n",
    "    - Black\n",
    "    - *Other*\n",
    "7. Sex (Boolean)\n",
    "8. Hours worked per week\n",
    "9. Native Country\n",
    "    - North America\n",
    "    - South America\n",
    "    - Asia\n",
    "    - *Europe*\n",
    "10. Income (Boolean)\n",
    "11. GDP of native country\n",
    "12. HDI of native country"
   ]
  },
  {
   "cell_type": "code",
   "execution_count": 2,
   "id": "02f852de-09af-4ab0-bfd8-e9f3a6fd1c4d",
   "metadata": {
    "tags": []
   },
   "outputs": [
    {
     "data": {
      "text/plain": [
       "45222×23 Matrix{Float64}:\n",
       " 1.0  39.0  0.0  0.0  1.0  1.0  0.0  …  0.0  0.0       7.2872e6  0.872  1.0\n",
       " 1.0  50.0  0.0  1.0  0.0  0.0  1.0     0.0  0.0       7.2872e6  0.872  1.0\n",
       " 1.0  38.0  1.0  0.0  0.0  0.0  0.0     0.0  0.0       7.2872e6  0.872  1.0\n",
       " 1.0  53.0  1.0  0.0  0.0  0.0  1.0     0.0  0.0       7.2872e6  0.872  1.0\n",
       " 1.0  28.0  1.0  0.0  0.0  0.0  1.0     0.0  0.0   28448.0       0.68   1.0\n",
       " 1.0  37.0  1.0  0.0  0.0  0.0  1.0  …  0.0  0.0       7.2872e6  0.872  1.0\n",
       " 1.0  49.0  1.0  0.0  0.0  0.0  1.0     0.0  0.0    5453.0       0.659  1.0\n",
       " 1.0  52.0  0.0  1.0  0.0  0.0  1.0     0.0  0.0       7.2872e6  0.872  0.0\n",
       " 1.0  31.0  1.0  0.0  0.0  1.0  0.0     0.0  0.0       7.2872e6  0.872  0.0\n",
       " 1.0  42.0  1.0  0.0  0.0  0.0  1.0     0.0  0.0       7.2872e6  0.872  0.0\n",
       " 1.0  37.0  1.0  0.0  0.0  0.0  1.0  …  0.0  0.0       7.2872e6  0.872  0.0\n",
       " 1.0  30.0  0.0  0.0  1.0  0.0  1.0     0.0  1.0  333014.0       0.434  0.0\n",
       " 1.0  23.0  1.0  0.0  0.0  1.0  0.0     0.0  0.0       7.2872e6  0.872  1.0\n",
       " ⋮                         ⋮         ⋱                 ⋮                \n",
       " 1.0  58.0  1.0  0.0  0.0  0.0  0.0  …  0.0  0.0       7.2872e6  0.872  1.0\n",
       " 1.0  32.0  1.0  0.0  0.0  0.0  1.0     0.0  0.0       7.2872e6  0.872  1.0\n",
       " 1.0  48.0  1.0  0.0  0.0  0.0  1.0     0.0  0.0       7.2872e6  0.872  1.0\n",
       " 1.0  61.0  1.0  0.0  0.0  0.0  1.0     0.0  0.0       7.2872e6  0.872  1.0\n",
       " 1.0  31.0  1.0  0.0  0.0  0.0  1.0     0.0  0.0       7.2872e6  0.872  1.0\n",
       " 1.0  25.0  1.0  0.0  0.0  1.0  0.0  …  0.0  0.0       7.2872e6  0.872  1.0\n",
       " 1.0  48.0  0.0  0.0  1.0  0.0  0.0     0.0  0.0       7.2872e6  0.872  1.0\n",
       " 1.0  33.0  1.0  0.0  0.0  1.0  0.0     0.0  0.0       7.2872e6  0.872  1.0\n",
       " 1.0  39.0  1.0  0.0  0.0  0.0  0.0     0.0  0.0       7.2872e6  0.872  1.0\n",
       " 1.0  38.0  1.0  0.0  0.0  0.0  1.0     0.0  0.0       7.2872e6  0.872  1.0\n",
       " 1.0  44.0  1.0  0.0  0.0  0.0  0.0  …  0.0  0.0       7.2872e6  0.872  1.0\n",
       " 1.0  35.0  0.0  1.0  0.0  0.0  1.0     0.0  0.0       7.2872e6  0.872  0.0"
      ]
     },
     "execution_count": 2,
     "metadata": {},
     "output_type": "execute_result"
    }
   ],
   "source": [
    "# Age \n",
    "ageClass = adultDataSet[:,1];\n",
    "\n",
    "# Work Class \n",
    "    # 100: Private \n",
    "    # 010: Self-employed \n",
    "    # 001: Government \n",
    "    # 000: Not working\n",
    "workClass1 = adultDataSet[:,2].== \" Private\"\n",
    "\n",
    "workClass21 = adultDataSet[:,2].== \" Self-emp-not-inc\"\n",
    "workClass22 = adultDataSet[:,2].== \" Self-emp-inc\"\n",
    "\n",
    "workClass31 = adultDataSet[:,2].== \" Federal-gov\"\n",
    "workClass32 = adultDataSet[:,2].== \" Local-gov\"\n",
    "workClass33 = adultDataSet[:,2].== \" State-gov\"\n",
    "\n",
    "workClassMatrix = [workClass1 workClass21+workClass22 workClass31+workClass32+workClass33];\n",
    "\n",
    "# Education\n",
    "eduClass1 = (adultDataSet[:,4].== \" Doctorate\") .* 24\n",
    "eduClass2 = (adultDataSet[:,4].== \" Masters\") .* 19\n",
    "eduClass3 = (adultDataSet[:,4].== \" Bachelors\") .*17\n",
    "eduClass4 = (adultDataSet[:,4].== \" Some-college\") .*14\n",
    "eduClass5 = (adultDataSet[:,4].== \" HS-grad\") .*13\n",
    "eduClass6 = (adultDataSet[:,4].== \" 12th\") .*13\n",
    "eduClass7 = (adultDataSet[:,4].== \" 11th\") .* 12\n",
    "eduClass8 = (adultDataSet[:,4].== \" 10th\") .* 11\n",
    "eduClass9 = (adultDataSet[:,4].== \" 9th\") .* 10\n",
    "eduClass10 = (adultDataSet[:,4].== \" 7th-8th\") .* 8\n",
    "eduClass11 = (adultDataSet[:,4].== \" 5th-6th\") .* 6\n",
    "eduClass12 = (adultDataSet[:,4].== \" 1st-4th\") .* 3\n",
    "eduClass13 = (adultDataSet[:,4].== \" Preschool\") \n",
    "eduClass14 = (adultDataSet[:,4].== \" Prof-school\") .* 15\n",
    "eduClass15 = (adultDataSet[:,4].== \" Assoc-acdm\") .* 15\n",
    "eduClass16 = (adultDataSet[:,4].== \" Assoc-voc\") .* 15\n",
    "\n",
    "eduClass = (eduClass1+eduClass2+eduClass3+eduClass4+eduClass5+eduClass6+eduClass7+eduClass8+eduClass9+\n",
    "    eduClass10+ eduClass11+eduClass12+eduClass13+eduClass14+eduClass15+eduClass16);\n",
    "\n",
    "# Marital Status \n",
    "    # 10: Single \n",
    "    # 01: Married \n",
    "    # 00: Previously married\n",
    "\n",
    "marryClass1 = adultDataSet[:,6].== \" Never-married\"\n",
    "marryClass21 = adultDataSet[:,6].== \" Married-civ-spouse\"\n",
    "marryClass22 = adultDataSet[:,6].== \" Married-spouse-absent\"\n",
    "\n",
    "marryClass23 = adultDataSet[:,6].== \" Married-AF-spouse\"\n",
    "\n",
    "marryMatrix = [marryClass1 marryClass21+marryClass22+marryClass23];\n",
    "\n",
    "# Occupation \n",
    "    # 1000: Engineering \n",
    "    # 0100: Business \n",
    "    # 0010: Technical \n",
    "    # 0001: Non-degree \n",
    "    # 0000: Government\n",
    "\n",
    "occClass11 = adultDataSet[:,7].== \" Tech-support\"\n",
    "occClass12 = adultDataSet[:,7].== \" Machine-op-inspct\"\n",
    "occClass21 = adultDataSet[:,7].== \" Sales\"\n",
    "occClass22 = adultDataSet[:,7].== \" Exec-managerial\"\n",
    "occClass23 = adultDataSet[:,7].== \" Adm-clerical\"\n",
    "occClass31 = adultDataSet[:,7].== \" Craft-repair\"\n",
    "occClass32 = adultDataSet[:,7].== \" Prof-specialty\"\n",
    "occClass41 = adultDataSet[:,7].== \" Other-service\"\n",
    "occClass42 = adultDataSet[:,7].== \" Handlers-cleaners\"\n",
    "occClass43 = adultDataSet[:,7].== \" Farming-fishing\"\n",
    "occClass44 = adultDataSet[:,7].== \" Transport-moving\"\n",
    "\n",
    "occMatrix = [occClass11+occClass12 occClass21+occClass22+occClass23 occClass31+occClass32 occClass41+occClass42+\n",
    "    occClass43+occClass44];\n",
    "\n",
    "# Race\n",
    "raceClass1 = adultDataSet[:,9].== \" White\"\n",
    "raceClass2 = adultDataSet[:,9].== \" Asian-Pac-Islander\"\n",
    "raceClass3 = adultDataSet[:,9].== \" Amer-Indian-Eskimo\"\n",
    "raceClass4 = adultDataSet[:,9].== \" Black\"\n",
    "\n",
    "raceMatrix = [raceClass1 raceClass2 raceClass3 raceClass4];\n",
    "\n",
    "# Sex \n",
    "sexClass = adultDataSet[:,10].== \" Female\";\n",
    "\n",
    "# Hours Per Week \n",
    "hrsPerWeekClass = adultDataSet[:,13];\n",
    "\n",
    "# Native Country \n",
    "    # 100: North America \n",
    "    # 010: South America \n",
    "    # 001: Asia \n",
    "    # 000: Europe\n",
    "natClass11 = adultDataSet[:,14].== \" United-States\"\n",
    "natClass12 = adultDataSet[:,14].== \" Outlying-US(Guam-USVI-etc)\"\n",
    "natClass13 = adultDataSet[:,14].== \" Puerto-Rico\"\n",
    "natClass14 = adultDataSet[:,14].== \" Canada\"\n",
    "natClass15 = adultDataSet[:,14].== \" Cuba\"\n",
    "natClass16 = adultDataSet[:,14].== \" Honduras\"\n",
    "natClass17 = adultDataSet[:,14].== \" Jamaica\"\n",
    "natClass18 = adultDataSet[:,14].== \" Mexico\"\n",
    "natClass19 = adultDataSet[:,14].== \" Dominican-Republic\"\n",
    "natClass110 = adultDataSet[:,14].== \" Haiti\"\n",
    "natClass111 = adultDataSet[:,14].== \" Nicaragua\"\n",
    "natClass112 = adultDataSet[:,14].== \" El-Salvador\"\n",
    "natClass113 = adultDataSet[:,14].== \" Trinidad&Tobago\"\n",
    "\n",
    "natClass21 = adultDataSet[:,14].== \" Ecuador\"\n",
    "natClass22 = adultDataSet[:,14].== \" Columbia\"\n",
    "natClass23 = adultDataSet[:,14].== \" Guatemala\"\n",
    "natClass24 = adultDataSet[:,14].== \" Peru\"\n",
    "\n",
    "natClass31 = adultDataSet[:,14].== \" Cambodia\"\n",
    "natClass32 = adultDataSet[:,14].== \" India\"\n",
    "natClass33 = adultDataSet[:,14].== \" Japan\"\n",
    "natClass34 = adultDataSet[:,14].== \" South\"\n",
    "natClass35 = adultDataSet[:,14].== \" China\"\n",
    "natClass36 = adultDataSet[:,14].== \" Iran\"\n",
    "natClass37 = adultDataSet[:,14].== \" Philippines\"\n",
    "natClass38 = adultDataSet[:,14].== \" Vietnam\"\n",
    "natClass39 = adultDataSet[:,14].== \" Laos\"\n",
    "natClass310 = adultDataSet[:,14].== \" Taiwan\"\n",
    "natClass311 = adultDataSet[:,14].== \" Thailand\"\n",
    "natClass312 = adultDataSet[:,14].== \" Hong\"\n",
    "\n",
    "natMatrix = [(natClass11+natClass12+natClass13+natClass14+natClass15+natClass16+natClass17+natClass18+natClass19+\n",
    "        natClass110+natClass111+natClass112+natClass113) (natClass21+natClass22+natClass23+natClass24) (natClass31+\n",
    "        natClass32+natClass33+natClass34+natClass35+natClass36+natClass37+natClass38+natClass39+natClass310+\n",
    "        natClass311+natClass312)];\n",
    "\n",
    "# Native Country GDP \n",
    "# Numbers are in Millions of USD\n",
    "# GDP data from 1994\n",
    "# Source: https://countryeconomy.com/gdp?year=1994\n",
    "gdpClass1 = (adultDataSet[:,14].== \" United-States\") .* 7287200\n",
    "gdpClass2 = (adultDataSet[:,14].== \" Outlying-US(Guam-USVI-etc)\") .* 7287200 # Uses US GDP\n",
    "gdpClass3 = (adultDataSet[:,14].== \" Puerto-Rico\") .* 7287200 # Uses US GDP\n",
    "gdpClass4 = (adultDataSet[:,14].== \" Canada\") .* 579913\n",
    "gdpClass5 = (adultDataSet[:,14].== \" Cuba\") .* 28448\n",
    "gdpClass6 = (adultDataSet[:,14].== \" Honduras\") .* 4642\n",
    "gdpClass7 = (adultDataSet[:,14].== \" Jamaica\") .* 5453\n",
    "gdpClass8 = (adultDataSet[:,14].== \" Mexico\") .* 527811\n",
    "gdpClass9 = (adultDataSet[:,14].== \" Dominican-Republic\") .* 14645\n",
    "gdpClass10 = (adultDataSet[:,14].== \" Haiti\") .* 3054\n",
    "gdpClass11 = (adultDataSet[:,14].== \" Nicaragua\") .* 3861\n",
    "gdpClass12 = (adultDataSet[:,14].== \" El-Salvador\") .* 7679\n",
    "gdpClass13 = (adultDataSet[:,14].== \" Trinadad&Tobago\") .* 5032\n",
    "gdpClass14 = (adultDataSet[:,14].== \" Ecuador\") .* 21147\n",
    "gdpClass15 = (adultDataSet[:,14].== \" Columbia\") .* 97625\n",
    "gdpClass16 = (adultDataSet[:,14].== \" Guatemala\") .* 12501\n",
    "gdpClass17 = (adultDataSet[:,14].== \" Peru\") .* 43225\n",
    "gdpClass18 = (adultDataSet[:,14].== \" Cambodia\") .* 2765\n",
    "gdpClass19 = (adultDataSet[:,14].== \" India\") .* 333014\n",
    "gdpClass20 = (adultDataSet[:,14].== \" Japan\") .* 4998797\n",
    "gdpClass21 = (adultDataSet[:,14].== \" South\") .* 463520\n",
    "gdpClass22 = (adultDataSet[:,14].== \" China\") .* 561686\n",
    "gdpClass23 = (adultDataSet[:,14].== \" Iran\") .* 79818\n",
    "gdpClass24 = (adultDataSet[:,14].== \" Philippines\") .* 73159\n",
    "gdpClass25 = (adultDataSet[:,14].== \" Vietnam\") .* 20712\n",
    "gdpClass26 = (adultDataSet[:,14].== \" Laos\") .* 3081\n",
    "gdpClass27 = (adultDataSet[:,14].== \" Taiwan\") .* 256247\n",
    "gdpClass28 = (adultDataSet[:,14].== \" Thailand\") .* 146684\n",
    "gdpClass29 = (adultDataSet[:,14].== \" Hong\") .* 135812\n",
    "gdpClass30 = (adultDataSet[:,14].== \" England\") .* 1244009\n",
    "gdpClass31 = (adultDataSet[:,14].== \" Germany\") .* 2209934\n",
    "gdpClass32 = (adultDataSet[:,14].== \" Greece\") .* 115694\n",
    "gdpClass33 = (adultDataSet[:,14].== \" Italy\") .* 1088506\n",
    "gdpClass34 = (adultDataSet[:,14].== \" Poland\") .* 103887\n",
    "gdpClass35 = (adultDataSet[:,14].== \" Portugal\") .* 99692\n",
    "gdpClass36 = (adultDataSet[:,14].== \" Ireland\") .* 55843\n",
    "gdpClass37 = (adultDataSet[:,14].== \" France\") .* 1396653\n",
    "gdpClass38 = (adultDataSet[:,14].== \" Hungary\") .* 43167\n",
    "gdpClass39 = (adultDataSet[:,14].== \" Scotland\") .* 1244009 # Uses England's GDP\n",
    "# Yugoslavia was split into Bosnia and Herzegovina, Croatia, Macedonia, Montenegro, \n",
    "# Serbia, Slovenia, and Kosovo (not in data) in 1991 so these GDPs were all added together\n",
    "gdpClass40 = (adultDataSet[:,14].== \" Yugoslavia\") .* 60158\n",
    "gdpClass41 = (adultDataSet[:,14].== \" Holand-Netherlands\") .* 382550\n",
    "\n",
    "gdpClass = (gdpClass1+gdpClass2+gdpClass3+gdpClass4+gdpClass5+gdpClass6+gdpClass7+gdpClass8+gdpClass9+gdpClass10+\n",
    "    gdpClass11+gdpClass12+gdpClass13+gdpClass14+gdpClass15+gdpClass16+gdpClass17+gdpClass18+gdpClass19+gdpClass20+\n",
    "    gdpClass21+gdpClass22+gdpClass23+gdpClass24+gdpClass25+gdpClass26+gdpClass27+gdpClass28+gdpClass29+gdpClass30+\n",
    "    gdpClass31+gdpClass32+gdpClass33+gdpClass34+gdpClass35+gdpClass36+gdpClass37+gdpClass38+gdpClass39+gdpClass40+\n",
    "    gdpClass41);\n",
    "\n",
    "\n",
    "# Native Country HDI\n",
    "# HDI, or Human Development Index, is a statistic of human development, broken down into \n",
    "    # life expectancy;\n",
    "    # education;\n",
    "    # income.\n",
    "# HDI data from 1990.\n",
    "# Source: https://hdr.undp.org/data-center/documentation-and-downloads\n",
    "hdiClass1 = (adultDataSet[:,14].== \" United-States\") .* 0.872\n",
    "hdiClass2 = (adultDataSet[:,14].== \" Outlying-US(Guam-USVI-etc)\") .* 0.872 # Uses US HDI\n",
    "hdiClass3 = (adultDataSet[:,14].== \" Puerto-Rico\") .* 0.872 # Uses US HDI\n",
    "hdiClass4 = (adultDataSet[:,14].== \" Canada\") .* 0.860\n",
    "hdiClass5 = (adultDataSet[:,14].== \" Cuba\") .* 0.680\n",
    "hdiClass6 = (adultDataSet[:,14].== \" Honduras\") .* 0.516\n",
    "hdiClass7 = (adultDataSet[:,14].== \" Jamaica\") .* 0.659\n",
    "hdiClass8 = (adultDataSet[:,14].== \" Mexico\") .* 0.662\n",
    "hdiClass9 = (adultDataSet[:,14].== \" Dominican-Republic\") .* 0.577\n",
    "hdiClass10 = (adultDataSet[:,14].== \" Haiti\") .* 0.429\n",
    "hdiClass11 = (adultDataSet[:,14].== \" Nicaragua\") .* 0.490\n",
    "hdiClass12 = (adultDataSet[:,14].== \" El-Salvador\") .* 0.525\n",
    "hdiClass13 = (adultDataSet[:,14].== \" Trinadad&Tobago\") .* 0.660\n",
    "hdiClass14 = (adultDataSet[:,14].== \" Ecuador\") .* 0.651\n",
    "hdiClass15 = (adultDataSet[:,14].== \" Columbia\") .* 0.610\n",
    "hdiClass16 = (adultDataSet[:,14].== \" Guatemala\") .* 0.484\n",
    "hdiClass17 = (adultDataSet[:,14].== \" Peru\") .* 0.621\n",
    "hdiClass18 = (adultDataSet[:,14].== \" Cambodia\") .* 0.378\n",
    "hdiClass19 = (adultDataSet[:,14].== \" India\") .* 0.434\n",
    "hdiClass20 = (adultDataSet[:,14].== \" Japan\") .* 0.845\n",
    "hdiClass21 = (adultDataSet[:,14].== \" South\") .* 0.737\n",
    "hdiClass22 = (adultDataSet[:,14].== \" China\") .* 0.484\n",
    "hdiClass23 = (adultDataSet[:,14].== \" Iran\") .* 0.601\n",
    "hdiClass24 = (adultDataSet[:,14].== \" Philippines\") .* 0.598\n",
    "hdiClass25 = (adultDataSet[:,14].== \" Vietnam\") .* 0.482\n",
    "hdiClass26 = (adultDataSet[:,14].== \" Laos\") .* 0.405\n",
    "hdiClass27 = (adultDataSet[:,14].== \" Taiwan\") .* 0.484 # Uses China's HDI\n",
    "hdiClass28 = (adultDataSet[:,14].== \" Thailand\") .* 0.576\n",
    "hdiClass29 = (adultDataSet[:,14].== \" Hong\") .* 0.788\n",
    "hdiClass30 = (adultDataSet[:,14].== \" England\") .* 0.804\n",
    "hdiClass31 = (adultDataSet[:,14].== \" Germany\") .* 0.829\n",
    "hdiClass32 = (adultDataSet[:,14].== \" Greece\") .* 0.759\n",
    "hdiClass33 = (adultDataSet[:,14].== \" Italy\") .* 0.778\n",
    "hdiClass34 = (adultDataSet[:,14].== \" Poland\") .* 0.716\n",
    "hdiClass35 = (adultDataSet[:,14].== \" Portugal\") .* 0.701\n",
    "hdiClass36 = (adultDataSet[:,14].== \" Ireland\") .* 0.737\n",
    "hdiClass37 = (adultDataSet[:,14].== \" France\") .* 0.791\n",
    "hdiClass38 = (adultDataSet[:,14].== \" Hungary\") .* 0.720\n",
    "hdiClass39 = (adultDataSet[:,14].== \" Scotland\") .* 0.804 # Uses England's HDI\n",
    "# Yugoslavia was split into Bosnia and Herzegovina, Croatia, Macedonia, Montenegro, \n",
    "# Serbia, Slovenia, and Kosovo (not in data) in 1991 so these HDIs were (weighted per capita) averaged\n",
    "hdiClass40 = (adultDataSet[:,14].== \" Yugoslavia\") .* 0.714\n",
    "hdiClass41 = (adultDataSet[:,14].== \" Holand-Netherlands\") .* 0.847\n",
    "\n",
    "hdiClass = (hdiClass1+hdiClass2+hdiClass3+hdiClass4+hdiClass5+hdiClass6+hdiClass7+hdiClass8+hdiClass9+hdiClass10+\n",
    "    hdiClass11+hdiClass12+hdiClass13+hdiClass14+hdiClass15+hdiClass16+hdiClass17+hdiClass18+hdiClass19+hdiClass20+\n",
    "    hdiClass21+hdiClass22+hdiClass23+hdiClass24+hdiClass25+hdiClass26+hdiClass27+hdiClass28+hdiClass29+hdiClass30+\n",
    "    hdiClass31+hdiClass32+hdiClass33+hdiClass34+hdiClass35+hdiClass36+hdiClass37+hdiClass38+hdiClass39+hdiClass40+\n",
    "    hdiClass41);\n",
    "\n",
    "\n",
    "# Income \n",
    "incomeClass = adultDataSet[:,15].== \" <=50K\";\n",
    "\n",
    "# Create Matrix \n",
    "adultMatrix = [ones(m) ageClass workClassMatrix marryMatrix occMatrix raceMatrix sexClass hrsPerWeekClass natMatrix gdpClass hdiClass incomeClass]\n",
    "# display(adultMatrix)"
   ]
  },
  {
   "cell_type": "markdown",
   "id": "d45eb301-bd39-4a0a-b731-83afda0ba593",
   "metadata": {
    "tags": []
   },
   "source": [
    "## Summary Visualizations"
   ]
  },
  {
   "cell_type": "markdown",
   "id": "c412a610-d110-4e92-bf9b-a1291bec074e",
   "metadata": {
    "tags": []
   },
   "source": [
    "### Age"
   ]
  },
  {
   "cell_type": "code",
   "execution_count": 3,
   "id": "688bdd6e-6d4a-47be-9e6a-9aa751aafd1a",
   "metadata": {
    "tags": []
   },
   "outputs": [
    {
     "data": {
      "text/plain": [
       "\"C:\\\\Users\\\\bento\\\\OneDrive\\\\School Documents\\\\Spring 2023\\\\MAS 4106\\\\Final Project\\\\Age_statistics.png\""
      ]
     },
     "execution_count": 3,
     "metadata": {},
     "output_type": "execute_result"
    }
   ],
   "source": [
    "# Create the histogram for age data and save it\n",
    "ageHist = histogram(adultDataSet[:, 1], bins=15, lab=\"Age\", xlab=\"Age (years)\", ylab=\"Frequency\", \n",
    "    title=\"Histogram of Age Data  \" * L\"(n=%$m)\", color=:blues)\n",
    "savefig(ageHist, \"Age_statistics.png\")"
   ]
  },
  {
   "cell_type": "markdown",
   "id": "7f537f26-c57e-4c1c-8246-57363ab701a3",
   "metadata": {
    "tags": []
   },
   "source": [
    "### Work Class"
   ]
  },
  {
   "cell_type": "code",
   "execution_count": 4,
   "id": "04f10d49-e890-476c-aaa6-40b907419071",
   "metadata": {
    "tags": []
   },
   "outputs": [
    {
     "data": {
      "text/plain": [
       "\"C:\\\\Users\\\\bento\\\\OneDrive\\\\School Documents\\\\Spring 2023\\\\MAS 4106\\\\Final Project\\\\Work_class_statistics.png\""
      ]
     },
     "execution_count": 4,
     "metadata": {},
     "output_type": "execute_result"
    }
   ],
   "source": [
    "# Create proprtions for the work class categories:\n",
    "    # y[1]: Private \n",
    "    # y[2]: Self-employed \n",
    "    # y[3]: Government \n",
    "    # y[4]: Not working\n",
    "y = zeros(4);\n",
    "y[1] = count(workClassMatrix[:, 1].==1)/m;\n",
    "y[2] = count(workClassMatrix[:, 2].==1)/m;\n",
    "y[3] = count(workClassMatrix[:, 3].==1)/m;\n",
    "y[4] = 1 - y[1] - y[2] - y[3];\n",
    "\n",
    "# Set up data labels for the pie chart\n",
    "x = [\"Private\", \"Self-employed\", \"Government\", \"Not working\"]\n",
    "\n",
    "# Create the pie chart for work class data and save it\n",
    "workClassPie = pie(x, y, title = \"Work Class  \" * L\"(n=%$m)\")\n",
    "savefig(workClassPie, \"Work_class_statistics.png\")"
   ]
  },
  {
   "cell_type": "markdown",
   "id": "bdd03588-a898-4134-be38-7e3179f9d3a4",
   "metadata": {
    "tags": []
   },
   "source": [
    "### Native Country"
   ]
  },
  {
   "cell_type": "code",
   "execution_count": 5,
   "id": "bc840a34-e9c1-43f2-b139-d3e81847c6cf",
   "metadata": {
    "tags": []
   },
   "outputs": [
    {
     "data": {
      "text/plain": [
       "\"C:\\\\Users\\\\bento\\\\OneDrive\\\\School Documents\\\\Spring 2023\\\\MAS 4106\\\\Final Project\\\\Native_country_statistics.png\""
      ]
     },
     "execution_count": 5,
     "metadata": {},
     "output_type": "execute_result"
    }
   ],
   "source": [
    "# Create proportions for the native country categories:\n",
    "    # y[1]: United States\n",
    "    # y[2]: The rest of North America \n",
    "    # y[3]: South America \n",
    "    # y[4]: Asia \n",
    "    # y[5]: Europe\n",
    "y = zeros(5);\n",
    "y[1] = count(adultDataSet[:,14].== \" United-States\") / m\n",
    "y[2] = count(natClass12+natClass13+natClass14+natClass15+natClass16+natClass17+natClass18+natClass19+\n",
    "    natClass110+natClass111+natClass112+natClass113 .== 1) / m\n",
    "y[3] = count(natClass21+natClass22+natClass23+natClass24 .== 1) / m\n",
    "y[4] = count(natClass31+natClass32+natClass33+natClass34+natClass35+natClass36+natClass37+natClass38+\n",
    "    natClass39+natClass310+natClass311+natClass312 .== 1) / m\n",
    "y[5] = 1 - y[1] - y[2] - y[3] - y[4];\n",
    "\n",
    "# Set up data labels for the pie chart\n",
    "x = [\"United States\", \"North America*\", \"South America\", \"Asia\", \"Europe\"]\n",
    "    \n",
    "# Create the pie chart for native country data and save it\n",
    "workClassPie = pie(x, y, title = \"Native Country  \" * L\"(n=%$m)\", color=[\"brown\", \"brown1\", \"chartreuse2\", \n",
    "        \"gold\", \"deepskyblue\"])\n",
    "annotate!(0.65, -1.1, [text(\"* The rest of North America, excluding the United States\", 8)])\n",
    "savefig(workClassPie, \"Native_country_statistics.png\")"
   ]
  },
  {
   "cell_type": "markdown",
   "id": "a4aa107a-566e-467f-9f3a-228d8fc912a0",
   "metadata": {
    "tags": []
   },
   "source": [
    "## Exploratory Models"
   ]
  },
  {
   "cell_type": "markdown",
   "id": "ac827962-a149-4b1d-b5d8-169d8cda67f3",
   "metadata": {},
   "source": [
    "### Model 1: Age & Hours Worked Per Week"
   ]
  },
  {
   "cell_type": "code",
   "execution_count": 6,
   "id": "8f4ca7ce-5357-4648-ab84-01904a5108f2",
   "metadata": {
    "tags": []
   },
   "outputs": [
    {
     "name": "stdout",
     "output_type": "stream",
     "text": [
      "x-hats: \n"
     ]
    },
    {
     "name": "stderr",
     "output_type": "stream",
     "text": [
      "\u001b[36m\u001b[1m[ \u001b[22m\u001b[39m\u001b[36m\u001b[1mInfo: \u001b[22m\u001b[39mSaved animation to C:\\Users\\bento\\OneDrive\\School Documents\\Spring 2023\\MAS 4106\\Final Project\\PlotModel1.gif\n"
     ]
    },
    {
     "data": {
      "text/plain": [
       "3×5 Matrix{Float64}:\n",
       " 12.8221      12.8993      12.8792      12.888       12.9344\n",
       "  0.00387641   0.00305791   0.00449042   0.00433938   0.00347041\n",
       "  0.0294873    0.0280251    0.0276828    0.0275504    0.0272265"
      ]
     },
     "metadata": {},
     "output_type": "display_data"
    },
    {
     "name": "stdout",
     "output_type": "stream",
     "text": [
      "RMS errors: \n"
     ]
    },
    {
     "data": {
      "text/plain": [
       "2×5 Matrix{Float64}:\n",
       " 2.6819   2.67759  2.67193  2.67043  2.67833\n",
       " 2.65295  2.67032  2.6927   2.69863  2.66716"
      ]
     },
     "metadata": {},
     "output_type": "display_data"
    }
   ],
   "source": [
    "# Create the matrix for model 1\n",
    "Amod1 = [ones(m) ageClass hrsPerWeekClass]\n",
    "\n",
    "# Create a number storing the number of elements in each fold\n",
    "fold = div(m,5); \n",
    "\n",
    "# Create a random permutation of m-values\n",
    "I = Random.randperm(m);\n",
    "\n",
    "# Storage for cross-validation results\n",
    "xhats1 = zeros(3,5); \n",
    "rmsErrors1 = zeros(2,5);\n",
    "\n",
    "# For each fold, compute the appropriate model and store its error.\n",
    "anim = @animate for k = 1:5\n",
    "    \n",
    "    # Assign a random permutation into training and test data\n",
    "    if (k == 1) \n",
    "        Itest = I[1 : fold]; \n",
    "        Itrain = I[fold+1 : end];\n",
    "    elseif (k == 5)\n",
    "        Itest = I[4 * fold+1 : end]; \n",
    "        Itrain = I[1:4 * fold];\n",
    "    else \n",
    "        Itest = I[(k-1) * fold+1: k*fold];\n",
    "        Itrain = I[[1 : (k-1) * fold ; k * fold + 1 : m]];\n",
    "    end\n",
    "\n",
    "    #display(Itest);\n",
    "    #display(Itrain);\n",
    "    \n",
    "    # Compute sample sizes for training and test data\n",
    "    mTest = length(Itest);\n",
    "    mTrain = length(Itrain);\n",
    "\n",
    "    # Compute the model based on training data and store it\n",
    "    xhats1[:, k] = Amod1[Itrain, :] \\ eduClass[Itrain];\n",
    "\n",
    "    # Compute RMS errors for both training and test data\n",
    "    rmsErrors1[1,k] = norm(Amod1[Itrain,:] * xhats1[:, k] - eduClass[Itrain]) / sqrt(mTrain);\n",
    "    rmsErrors1[2,k] = norm(Amod1[Itest,:] * xhats1[:, k] - eduClass[Itest]) / sqrt(mTest);\n",
    "    \n",
    "    ## Plot actual (x) versus predicted (y) education\n",
    "    # Plot test data\n",
    "    tp1 = scatter(eduClass[Itest], Amod1[Itest, :] * xhats1[:, k], color=\"seagreen3\", xlims=(0,25), ylims=(0,25), \n",
    "        title=\"Test data  \" * L\"(n=%$mTest)\", xlabel=\"Actual education (years)\", \n",
    "        ylabel=\"Predicted education (years)\", minorgrid=true)\n",
    "    plot!([0,25], [0,25], linestyle = :dash, linewidth=2, color=\"magenta\") # y=x line\n",
    "    \n",
    "    # Plot training data\n",
    "    p1 = scatter(eduClass[Itrain], Amod1[Itrain, :] * xhats1[:, k], color=\"seagreen3\", xlims=(0,25), ylims=(0,25), \n",
    "        title=\"Training data  \" * L\"(n=%$mTrain)\", xlabel=\"Actual education (years)\", \n",
    "        ylabel=\"Predicted education (years)\", minorgrid=true)\n",
    "    plot!([0,25], [0,25], linestyle = :dash, linewidth=2, color=\"magenta\") # y=x line\n",
    "\n",
    "    plotModel1 = plot(tp1, p1, layout = (1, 2), legend=false, size=(1200, 620), margin=8mm,\n",
    "        plot_title=\"Education Prediction using Age and Hours Worked per Week\")\n",
    "    annotate!(24, 1, [text(\"Fold \" * string(k), 9)])\n",
    "    savefig(plotModel1, \"PlotModel_1f\" * string(k) * \".png\")\n",
    "end\n",
    "\n",
    "gif(anim, \"PlotModel1.gif\", fps=1)\n",
    "\n",
    "println(\"x-hats: \"); display(xhats1);\n",
    "println(\"RMS errors: \"); display(rmsErrors1);"
   ]
  },
  {
   "cell_type": "markdown",
   "id": "23c2bad8-c4a8-490e-afb5-a65729593fce",
   "metadata": {},
   "source": [
    "### Model 2: Work Class & Occupation"
   ]
  },
  {
   "cell_type": "code",
   "execution_count": 7,
   "id": "662662c5-0b91-42bd-a8ea-2272916979c9",
   "metadata": {
    "tags": []
   },
   "outputs": [
    {
     "name": "stdout",
     "output_type": "stream",
     "text": [
      "x-hats: \n"
     ]
    },
    {
     "name": "stderr",
     "output_type": "stream",
     "text": [
      "\u001b[36m\u001b[1m[ \u001b[22m\u001b[39m\u001b[36m\u001b[1mInfo: \u001b[22m\u001b[39mSaved animation to C:\\Users\\bento\\OneDrive\\School Documents\\Spring 2023\\MAS 4106\\Final Project\\PlotModel2.gif\n"
     ]
    },
    {
     "data": {
      "text/plain": [
       "8×5 Matrix{Float64}:\n",
       " 12.2886    12.5095    12.8449    12.7553    12.5436\n",
       "  0.642657   0.442268   0.165306   0.281487   0.434281\n",
       "  0.937226   0.774063   0.466275   0.592344   0.735789\n",
       "  1.82084    1.59737    1.29116    1.42872    1.58777\n",
       "  0.297428   0.289188   0.213166   0.207027   0.262904\n",
       "  1.59621    1.55498    1.52847    1.47667    1.54411\n",
       "  1.81704    1.86363    1.79118    1.74162    1.79647\n",
       " -0.293376  -0.327893  -0.391596  -0.413411  -0.366527"
      ]
     },
     "metadata": {},
     "output_type": "display_data"
    },
    {
     "name": "stdout",
     "output_type": "stream",
     "text": [
      "RMS errors: \n"
     ]
    },
    {
     "data": {
      "text/plain": [
       "2×5 Matrix{Float64}:\n",
       " 2.51346  2.49752  2.51356  2.49871  2.49845\n",
       " 2.4684   2.53226  2.46769  2.5272   2.52817"
      ]
     },
     "metadata": {},
     "output_type": "display_data"
    }
   ],
   "source": [
    "# Create the matrix for model 2\n",
    "Amod2 = [ones(m) workClassMatrix occMatrix]\n",
    "\n",
    "# Create a number storing the number of elements in each fold\n",
    "fold = div(m,5); \n",
    "\n",
    "# Create a random permutation of m-values\n",
    "I = Random.randperm(m);\n",
    "\n",
    "# Storage for cross-validation results\n",
    "xhats2 = zeros(8,5); \n",
    "rmsErrors2 = zeros(2,5);\n",
    "\n",
    "# For each fold, compute the appropriate model and store its error.\n",
    "anim = @animate for k = 1:5\n",
    "    \n",
    "    # Assign a random permutation into training and test data\n",
    "    if (k == 1) \n",
    "        Itest = I[1 : fold]; \n",
    "        Itrain = I[fold+1 : end];\n",
    "    elseif (k == 5)\n",
    "        Itest = I[4 * fold+1 : end]; \n",
    "        Itrain = I[1:4 * fold];\n",
    "    else \n",
    "        Itest = I[(k-1) * fold+1: k*fold];\n",
    "        Itrain = I[[1 : (k-1) * fold ; k * fold + 1 : m]];\n",
    "    end\n",
    "\n",
    "    #display(Itest);\n",
    "    #display(Itrain);\n",
    "    \n",
    "    # Compute sample sizes for training and test data\n",
    "    mTest = length(Itest);\n",
    "    mTrain = length(Itrain);\n",
    "\n",
    "    # Compute the model based on training data and store it\n",
    "    xhats2[:, k] = Amod2[Itrain, :] \\ eduClass[Itrain];\n",
    "\n",
    "    # Compute RMS errors for both training and test data\n",
    "    rmsErrors2[1,k] = norm(Amod2[Itrain,:] * xhats2[:, k] - eduClass[Itrain]) / sqrt(mTrain);\n",
    "    rmsErrors2[2,k] = norm(Amod2[Itest,:] * xhats2[:, k] - eduClass[Itest]) / sqrt(mTest);\n",
    "    \n",
    "    ## Plot actual (x) versus predicted (y) education\n",
    "    # Plot test data\n",
    "    tp2 = scatter(eduClass[Itest], Amod2[Itest, :] * xhats2[:, k], color=\"firebrick1\", xlims=(0,25), ylims=(0,25), \n",
    "        title=\"Test data  \" * L\"(n=%$mTest)\", xlabel=\"Actual education (years)\", \n",
    "        ylabel=\"Predicted education (years)\", minorgrid=true)\n",
    "    plot!([0,25], [0,25], linestyle = :dash, linewidth=2, color=\"magenta\") # y=x line\n",
    "    \n",
    "    # Plot training data\n",
    "    p2 = scatter(eduClass[Itrain], Amod2[Itrain, :] * xhats2[:, k], color=\"firebrick1\", xlims=(0,25), ylims=(0,25), \n",
    "        title=\"Training data  \" * L\"(n=%$mTrain)\", xlabel=\"Actual education (years)\", \n",
    "        ylabel=\"Predicted education (years)\", minorgrid=true)\n",
    "    plot!([0,25], [0,25], linestyle = :dash, linewidth=2, color=\"magenta\") # y=x line\n",
    "\n",
    "    plotModel2 = plot(tp2, p2, layout = (1, 2), legend=false, size=(1200, 620), margin=8mm,\n",
    "        plot_title=\"Education Prediction using Work Class and Occupation\")\n",
    "    annotate!(24, 1, [text(\"Fold \" * string(k), 9)])\n",
    "    savefig(plotModel2, \"PlotModel_2f\" * string(k) * \".png\")\n",
    "end\n",
    "\n",
    "gif(anim, \"PlotModel2.gif\", fps=1)\n",
    "\n",
    "println(\"x-hats: \"); display(xhats2);\n",
    "println(\"RMS errors: \"); display(rmsErrors2);"
   ]
  },
  {
   "cell_type": "markdown",
   "id": "34eeea38-ae63-4c73-9252-f42ff43b782c",
   "metadata": {},
   "source": [
    "### Model 3: Marital Status & Native Country"
   ]
  },
  {
   "cell_type": "code",
   "execution_count": 8,
   "id": "9885bbdd-d92c-46fc-b5f6-6af6d7c86806",
   "metadata": {
    "tags": []
   },
   "outputs": [
    {
     "name": "stdout",
     "output_type": "stream",
     "text": [
      "x-hats: \n"
     ]
    },
    {
     "name": "stderr",
     "output_type": "stream",
     "text": [
      "\u001b[36m\u001b[1m[ \u001b[22m\u001b[39m\u001b[36m\u001b[1mInfo: \u001b[22m\u001b[39mSaved animation to C:\\Users\\bento\\OneDrive\\School Documents\\Spring 2023\\MAS 4106\\Final Project\\PlotModel3.gif\n"
     ]
    },
    {
     "data": {
      "text/plain": [
       "6×5 Matrix{Float64}:\n",
       " 13.899       13.9486       13.913      13.9106     13.842\n",
       "  0.212644     0.151453      0.185883    0.155794    0.20564\n",
       "  0.411226     0.364906      0.417396    0.393582    0.430863\n",
       "  0.00042941   0.000927901  -0.0101563   0.0117566   0.0538128\n",
       " -1.96753     -1.74573      -1.97428    -1.69183    -1.82855\n",
       "  1.0578       0.917736      1.06795     1.11464     1.08126"
      ]
     },
     "metadata": {},
     "output_type": "display_data"
    },
    {
     "name": "stdout",
     "output_type": "stream",
     "text": [
      "RMS errors: \n"
     ]
    },
    {
     "data": {
      "text/plain": [
       "2×5 Matrix{Float64}:\n",
       " 2.68102  2.6916   2.68673  2.67265  2.69284\n",
       " 2.70123  2.65921  2.67841  2.73432  2.65371"
      ]
     },
     "metadata": {},
     "output_type": "display_data"
    }
   ],
   "source": [
    "# Create the matrix for model 3\n",
    "Amod3 = [ones(m) marryMatrix natMatrix]\n",
    "\n",
    "# Create a number storing the number of elements in each fold\n",
    "fold = div(m,5); \n",
    "\n",
    "# Create a random permutation of m-values\n",
    "I = Random.randperm(m);\n",
    "\n",
    "# Storage for cross-validation results\n",
    "xhats3 = zeros(6,5); \n",
    "rmsErrors3 = zeros(2,5);\n",
    "\n",
    "# For each fold, compute the appropriate model and store its error.\n",
    "anim = @animate for k = 1:5\n",
    "    \n",
    "    # Assign a random permutation into training and test data\n",
    "    if (k == 1) \n",
    "        Itest = I[1 : fold]; \n",
    "        Itrain = I[fold+1 : end];\n",
    "    elseif (k == 5)\n",
    "        Itest = I[4 * fold+1 : end]; \n",
    "        Itrain = I[1:4 * fold];\n",
    "    else \n",
    "        Itest = I[(k-1) * fold+1: k*fold];\n",
    "        Itrain = I[[1 : (k-1) * fold ; k * fold + 1 : m]];\n",
    "    end\n",
    "\n",
    "    #display(Itest);\n",
    "    #display(Itrain);\n",
    "    \n",
    "    # Compute sample sizes for training and test data\n",
    "    mTest = length(Itest);\n",
    "    mTrain = length(Itrain);\n",
    "\n",
    "    # Compute the model based on training data and store it\n",
    "    xhats3[:, k] = Amod3[Itrain, :] \\ eduClass[Itrain];\n",
    "\n",
    "    # Compute RMS errors for both training and test data\n",
    "    rmsErrors3[1,k] = norm(Amod3[Itrain,:] * xhats3[:, k] - eduClass[Itrain]) / sqrt(mTrain);\n",
    "    rmsErrors3[2,k] = norm(Amod3[Itest,:] * xhats3[:, k] - eduClass[Itest]) / sqrt(mTest);\n",
    "    \n",
    "    ## Plot actual (x) versus predicted (y) education\n",
    "    # Plot test data\n",
    "    tp3 = scatter(eduClass[Itest], Amod3[Itest, :] * xhats3[:, k], color=\"olive\", xlims=(0,25), ylims=(0,25), \n",
    "        title=\"Test data  \" * L\"(n=%$mTest)\", xlabel=\"Actual education (years)\", \n",
    "        ylabel=\"Predicted education (years)\", minorgrid=true)\n",
    "    plot!([0,25], [0,25], linestyle = :dash, linewidth=2, color=\"magenta\") # y=x line\n",
    "    \n",
    "    # Plot training data\n",
    "    p3 = scatter(eduClass[Itrain], Amod3[Itrain, :] * xhats3[:, k], color=\"olive\", xlims=(0,25), ylims=(0,25), \n",
    "        title=\"Training data  \" * L\"(n=%$mTrain)\", xlabel=\"Actual education (years)\", \n",
    "        ylabel=\"Predicted education (years)\", minorgrid=true)\n",
    "    plot!([0,25], [0,25], linestyle = :dash, linewidth=2, color=\"magenta\") # y=x line\n",
    "\n",
    "    plotModel3 = plot(tp3, p3, layout = (1, 2), legend=false, size=(1200, 620), margin=8mm,\n",
    "        plot_title=\"Education Prediction using Marital Status and Native Country\")\n",
    "    annotate!(24, 1, [text(\"Fold \" * string(k), 9)])\n",
    "    savefig(plotModel3, \"PlotModel_3f\" * string(k) * \".png\")\n",
    "end\n",
    "\n",
    "gif(anim, \"PlotModel3.gif\", fps=1)\n",
    "\n",
    "println(\"x-hats: \"); display(xhats3);\n",
    "println(\"RMS errors: \"); display(rmsErrors3);"
   ]
  },
  {
   "cell_type": "markdown",
   "id": "3a9ca38d-1447-477e-b1b5-36e938babdb5",
   "metadata": {},
   "source": [
    "### Model 4: Race & Sex"
   ]
  },
  {
   "cell_type": "code",
   "execution_count": 9,
   "id": "d05e591d-be32-4f97-b874-9761a1ec3eb2",
   "metadata": {
    "tags": []
   },
   "outputs": [
    {
     "name": "stdout",
     "output_type": "stream",
     "text": [
      "x-hats: \n"
     ]
    },
    {
     "name": "stderr",
     "output_type": "stream",
     "text": [
      "\u001b[36m\u001b[1m[ \u001b[22m\u001b[39m\u001b[36m\u001b[1mInfo: \u001b[22m\u001b[39mSaved animation to C:\\Users\\bento\\OneDrive\\School Documents\\Spring 2023\\MAS 4106\\Final Project\\PlotModel4.gif\n"
     ]
    },
    {
     "data": {
      "text/plain": [
       "6×5 Matrix{Float64}:\n",
       " 12.6183     12.7192     12.6062     12.6782     12.7709\n",
       "  1.58615     1.48238     1.62069     1.55152     1.44552\n",
       "  2.37436     2.36506     2.46029     2.38234     2.21216\n",
       "  0.813531    0.774745    0.894445    0.865823    0.723098\n",
       "  0.945584    0.887308    0.996028    0.93588     0.814597\n",
       "  0.0841647   0.0409526   0.0449528   0.0248212   0.0585612"
      ]
     },
     "metadata": {},
     "output_type": "display_data"
    },
    {
     "name": "stdout",
     "output_type": "stream",
     "text": [
      "RMS errors: \n"
     ]
    },
    {
     "data": {
      "text/plain": [
       "2×5 Matrix{Float64}:\n",
       " 2.69785  2.66925  2.68337  2.69351  2.67653\n",
       " 2.62905  2.74336  2.68749  2.64664  2.71465"
      ]
     },
     "metadata": {},
     "output_type": "display_data"
    }
   ],
   "source": [
    "# Create the matrix for model 4\n",
    "Amod4 = [ones(m) raceMatrix sexClass]\n",
    "\n",
    "# Create a number storing the number of elements in each fold\n",
    "fold = div(m,5); \n",
    "\n",
    "# Create a random permutation of m-values\n",
    "I = Random.randperm(m);\n",
    "\n",
    "# Storage for cross-validation results\n",
    "xhats4 = zeros(6,5); \n",
    "rmsErrors4 = zeros(2,5);\n",
    "\n",
    "# For each fold, compute the appropriate model and store its error.\n",
    "anim = @animate for k = 1:5\n",
    "    \n",
    "    # Assign a random permutation into training and test data\n",
    "    if (k == 1) \n",
    "        Itest = I[1 : fold]; \n",
    "        Itrain = I[fold+1 : end];\n",
    "    elseif (k == 5)\n",
    "        Itest = I[4 * fold+1 : end]; \n",
    "        Itrain = I[1:4 * fold];\n",
    "    else \n",
    "        Itest = I[(k-1) * fold+1: k*fold];\n",
    "        Itrain = I[[1 : (k-1) * fold ; k * fold + 1 : m]];\n",
    "    end\n",
    "\n",
    "    #display(Itest);\n",
    "    #display(Itrain);\n",
    "    \n",
    "    # Compute sample sizes for training and test data\n",
    "    mTest = length(Itest);\n",
    "    mTrain = length(Itrain);\n",
    "\n",
    "    # Compute the model based on training data and store it\n",
    "    xhats4[:, k] = Amod4[Itrain, :] \\ eduClass[Itrain];\n",
    "\n",
    "    # Compute RMS errors for both training and test data\n",
    "    rmsErrors4[1,k] = norm(Amod4[Itrain,:] * xhats4[:, k] - eduClass[Itrain]) / sqrt(mTrain);\n",
    "    rmsErrors4[2,k] = norm(Amod4[Itest,:] * xhats4[:, k] - eduClass[Itest]) / sqrt(mTest);\n",
    "    \n",
    "    ## Plot actual (x) versus predicted (y) education\n",
    "    # Plot test data\n",
    "    tp4 = scatter(eduClass[Itest], Amod4[Itest, :] * xhats4[:, k], color=\"peru\", xlims=(0,25), ylims=(0,25), \n",
    "        title=\"Test data  \" * L\"(n=%$mTest)\", xlabel=\"Actual education (years)\", \n",
    "        ylabel=\"Predicted education (years)\", minorgrid=true)\n",
    "    plot!([0,25], [0,25], linestyle = :dash, linewidth=2, color=\"magenta\") # y=x line\n",
    "    \n",
    "    # Plot training data\n",
    "    p4 = scatter(eduClass[Itrain], Amod4[Itrain, :] * xhats4[:, k], color=\"peru\", xlims=(0,25), ylims=(0,25), \n",
    "        title=\"Training data  \" * L\"(n=%$mTrain)\", xlabel=\"Actual education (years)\", \n",
    "        ylabel=\"Predicted education (years)\", minorgrid=true)\n",
    "    plot!([0,25], [0,25], linestyle = :dash, linewidth=2, color=\"magenta\") # y=x line\n",
    "\n",
    "    plotModel4 = plot(tp4, p4, layout = (1, 2), legend=false, size=(1200, 620), margin=8mm,\n",
    "        plot_title=\"Education Prediction using Race and Sex\")\n",
    "    annotate!(24, 1, [text(\"Fold \" * string(k), 9)])\n",
    "    savefig(plotModel4, \"PlotModel_4f\" * string(k) * \".png\")\n",
    "end\n",
    "\n",
    "gif(anim, \"PlotModel4.gif\", fps=1)\n",
    "\n",
    "println(\"x-hats: \"); display(xhats4);\n",
    "println(\"RMS errors: \"); display(rmsErrors4);"
   ]
  },
  {
   "cell_type": "markdown",
   "id": "5c0ee6dc-9b6a-4282-acf3-e5f147358069",
   "metadata": {},
   "source": [
    "### Model 5: GDP + Income"
   ]
  },
  {
   "cell_type": "code",
   "execution_count": 10,
   "id": "d5a57e29-db7f-4387-98d9-766ebcdccb90",
   "metadata": {
    "tags": []
   },
   "outputs": [
    {
     "name": "stdout",
     "output_type": "stream",
     "text": [
      "x-hats: \n"
     ]
    },
    {
     "name": "stderr",
     "output_type": "stream",
     "text": [
      "\u001b[36m\u001b[1m[ \u001b[22m\u001b[39m\u001b[36m\u001b[1mInfo: \u001b[22m\u001b[39mSaved animation to C:\\Users\\bento\\OneDrive\\School Documents\\Spring 2023\\MAS 4106\\Final Project\\PlotModel5.gif\n"
     ]
    },
    {
     "data": {
      "text/plain": [
       "3×5 Matrix{Float64}:\n",
       " 14.3052      14.3409      14.2447      14.3242      14.3585\n",
       "  1.98742e-7   1.89202e-7   2.02127e-7   1.87509e-7   1.86577e-7\n",
       " -1.93692     -1.90436     -1.90738     -1.88107     -1.90022"
      ]
     },
     "metadata": {},
     "output_type": "display_data"
    },
    {
     "name": "stdout",
     "output_type": "stream",
     "text": [
      "RMS errors: \n"
     ]
    },
    {
     "data": {
      "text/plain": [
       "2×5 Matrix{Float64}:\n",
       " 2.53734  2.54345  2.55138  2.53215  2.53403\n",
       " 2.5496   2.52485  2.49295  2.5701   2.56258"
      ]
     },
     "metadata": {},
     "output_type": "display_data"
    }
   ],
   "source": [
    "# Create the matrix for model 5\n",
    "Amod5 = [ones(m) gdpClass incomeClass]\n",
    "\n",
    "# Create a number storing the number of elements in each fold\n",
    "fold = div(m,5); \n",
    "\n",
    "# Create a random permutation of m-values\n",
    "I = Random.randperm(m);\n",
    "\n",
    "# Storage for cross-validation results\n",
    "xhats5 = zeros(3,5); \n",
    "rmsErrors5 = zeros(2,5);\n",
    "\n",
    "# For each fold, compute the appropriate model and store its error.\n",
    "anim = @animate for k = 1:5\n",
    "    \n",
    "    # Assign a random permutation into training and test data\n",
    "    if (k == 1) \n",
    "        Itest = I[1 : fold]; \n",
    "        Itrain = I[fold+1 : end];\n",
    "    elseif (k == 5)\n",
    "        Itest = I[4 * fold+1 : end]; \n",
    "        Itrain = I[1:4 * fold];\n",
    "    else \n",
    "        Itest = I[(k-1) * fold+1: k*fold];\n",
    "        Itrain = I[[1 : (k-1) * fold ; k * fold + 1 : m]];\n",
    "    end\n",
    "\n",
    "    #display(Itest);\n",
    "    #display(Itrain);\n",
    "    \n",
    "    # Compute sample sizes for training and test data\n",
    "    mTest = length(Itest);\n",
    "    mTrain = length(Itrain);\n",
    "\n",
    "    # Compute the model based on training data and store it\n",
    "    xhats5[:, k] = Amod5[Itrain, :] \\ eduClass[Itrain];\n",
    "\n",
    "    # Compute RMS errors for both training and test data\n",
    "    rmsErrors5[1,k] = norm(Amod5[Itrain,:] * xhats5[:, k] - eduClass[Itrain]) / sqrt(mTrain);\n",
    "    rmsErrors5[2,k] = norm(Amod5[Itest,:] * xhats5[:, k] - eduClass[Itest]) / sqrt(mTest);\n",
    "    \n",
    "    ## Plot actual (x) versus predicted (y) education\n",
    "    # Plot test data\n",
    "    tp5 = scatter(eduClass[Itest], Amod5[Itest, :] * xhats5[:, k], color=\"purple1\", xlims=(0,25), ylims=(0,25), \n",
    "        title=\"Test data  \" * L\"(n=%$mTest)\", xlabel=\"Actual education (years)\", \n",
    "        ylabel=\"Predicted education (years)\", minorgrid=true)\n",
    "    plot!([0,25], [0,25], linestyle = :dash, linewidth=2, color=\"magenta\") # y=x line\n",
    "    \n",
    "    # Plot training data\n",
    "    p5 = scatter(eduClass[Itrain], Amod5[Itrain, :] * xhats5[:, k], color=\"purple1\", xlims=(0,25), ylims=(0,25), \n",
    "        title=\"Training data  \" * L\"(n=%$mTrain)\", xlabel=\"Actual education (years)\", \n",
    "        ylabel=\"Predicted education (years)\", minorgrid=true)\n",
    "    plot!([0,25], [0,25], linestyle = :dash, linewidth=2, color=\"magenta\") # y=x line\n",
    "\n",
    "    plotModel5 = plot(tp5, p5, layout = (1, 2), legend=false, size=(1200, 620), margin=8mm,\n",
    "        plot_title=\"Education Prediction using GDP and Income\")\n",
    "    annotate!(24, 1, [text(\"Fold \" * string(k), 9)])\n",
    "    savefig(plotModel5, \"PlotModel_5f\" * string(k) * \".png\")\n",
    "end\n",
    "\n",
    "gif(anim, \"PlotModel5.gif\", fps=1)\n",
    "\n",
    "println(\"x-hats: \"); display(xhats5);\n",
    "println(\"RMS errors: \"); display(rmsErrors5);"
   ]
  },
  {
   "cell_type": "markdown",
   "id": "76cb3380-5712-4498-b00c-17d5ed89acb6",
   "metadata": {},
   "source": [
    "### Model 6: HDI & Income"
   ]
  },
  {
   "cell_type": "code",
   "execution_count": 11,
   "id": "dc728a7b-8d80-4169-94e7-e0fb3740d25a",
   "metadata": {
    "tags": []
   },
   "outputs": [
    {
     "name": "stdout",
     "output_type": "stream",
     "text": [
      "x-hats: \n"
     ]
    },
    {
     "name": "stderr",
     "output_type": "stream",
     "text": [
      "\u001b[36m\u001b[1m[ \u001b[22m\u001b[39m\u001b[36m\u001b[1mInfo: \u001b[22m\u001b[39mSaved animation to C:\\Users\\bento\\OneDrive\\School Documents\\Spring 2023\\MAS 4106\\Final Project\\PlotModel6.gif\n"
     ]
    },
    {
     "data": {
      "text/plain": [
       "6×5 Matrix{Float64}:\n",
       " 13.9546     13.9774     13.8956     13.8259    13.8632\n",
       "  0.194544    0.179347    0.174809    0.171205   0.192378\n",
       "  0.400461    0.397387    0.420958    0.395765   0.404041\n",
       " -0.0528477  -0.0623446   0.0155069   0.101406   0.050926\n",
       " -1.94426    -1.76576    -1.8603     -1.71956   -1.9093\n",
       "  0.931865    0.945642    1.09564     1.1796     1.08529"
      ]
     },
     "metadata": {},
     "output_type": "display_data"
    },
    {
     "name": "stdout",
     "output_type": "stream",
     "text": [
      "RMS errors: \n"
     ]
    },
    {
     "data": {
      "text/plain": [
       "2×5 Matrix{Float64}:\n",
       " 2.69327  2.68054  2.68766  2.68049  2.683\n",
       " 2.65211  2.70316  2.67469  2.70335  2.69328"
      ]
     },
     "metadata": {},
     "output_type": "display_data"
    }
   ],
   "source": [
    "# Create the matrix for model 6\n",
    "Amod6 = [ones(m) marryMatrix natMatrix]\n",
    "\n",
    "# Create a number storing the number of elements in each fold\n",
    "fold = div(m,5); \n",
    "\n",
    "# Create a random permutation of m-values\n",
    "I = Random.randperm(m);\n",
    "\n",
    "# Storage for cross-validation results\n",
    "xhats6 = zeros(6,5); \n",
    "rmsErrors6 = zeros(2,5);\n",
    "\n",
    "# For each fold, compute the appropriate model and store its error.\n",
    "anim = @animate for k = 1:5\n",
    "    \n",
    "    # Assign a random permutation into training and test data\n",
    "    if (k == 1) \n",
    "        Itest = I[1 : fold]; \n",
    "        Itrain = I[fold+1 : end];\n",
    "    elseif (k == 5)\n",
    "        Itest = I[4 * fold+1 : end]; \n",
    "        Itrain = I[1:4 * fold];\n",
    "    else \n",
    "        Itest = I[(k-1) * fold+1: k*fold];\n",
    "        Itrain = I[[1 : (k-1) * fold ; k * fold + 1 : m]];\n",
    "    end\n",
    "\n",
    "    #display(Itest);\n",
    "    #display(Itrain);\n",
    "    \n",
    "    # Compute sample sizes for training and test data\n",
    "    mTest = length(Itest);\n",
    "    mTrain = length(Itrain);\n",
    "\n",
    "    # Compute the model based on training data and store it\n",
    "    xhats6[:, k] = Amod6[Itrain, :] \\ eduClass[Itrain];\n",
    "\n",
    "    # Compute RMS errors for both training and test data\n",
    "    rmsErrors6[1,k] = norm(Amod6[Itrain,:] * xhats6[:, k] - eduClass[Itrain]) / sqrt(mTrain);\n",
    "    rmsErrors6[2,k] = norm(Amod6[Itest,:] * xhats6[:, k] - eduClass[Itest]) / sqrt(mTest);\n",
    "    \n",
    "    ## Plot actual (x) versus predicted (y) education\n",
    "    # Plot test data\n",
    "    tp6 = scatter(eduClass[Itest], Amod6[Itest, :] * xhats6[:, k], color=\"steelblue\", xlims=(0,25), ylims=(0,25), \n",
    "        title=\"Test data  \" * L\"(n=%$mTest)\", xlabel=\"Actual education (years)\", \n",
    "        ylabel=\"Predicted education (years)\", minorgrid=true)\n",
    "    plot!([0,25], [0,25], linestyle = :dash, linewidth=2, color=\"magenta\") # y=x line\n",
    "    \n",
    "    # Plot training data\n",
    "    p6 = scatter(eduClass[Itrain], Amod6[Itrain, :] * xhats6[:, k], color=\"steelblue\", xlims=(0,25), ylims=(0,25), \n",
    "        title=\"Training data  \" * L\"(n=%$mTrain)\", xlabel=\"Actual education (years)\", \n",
    "        ylabel=\"Predicted education (years)\", minorgrid=true)\n",
    "    plot!([0,25], [0,25], linestyle = :dash, linewidth=2, color=\"magenta\") # y=x line\n",
    "\n",
    "    plotModel6 = plot(tp6, p6, layout = (1, 2), legend=false, size=(1200, 620), margin=8mm,\n",
    "        plot_title=\"Education Prediction using HDI and Income\")\n",
    "    annotate!(24, 1, [text(\"Fold \" * string(k), 9)])\n",
    "    savefig(plotModel6, \"PlotModel_6f\" * string(k) * \".png\")\n",
    "end\n",
    "\n",
    "gif(anim, \"PlotModel6.gif\", fps=1)\n",
    "\n",
    "println(\"x-hats: \"); display(xhats6);\n",
    "println(\"RMS errors: \"); display(rmsErrors6);"
   ]
  },
  {
   "cell_type": "markdown",
   "id": "21e93e1a-48ab-4523-9fbf-e531a9a0d844",
   "metadata": {
    "tags": []
   },
   "source": [
    "## Education Prediction Models Factoring Controllable and Uncontrollable Attributes"
   ]
  },
  {
   "cell_type": "markdown",
   "id": "9d09aa2a-841f-4bac-b511-e8881abeb44d",
   "metadata": {
    "tags": []
   },
   "source": [
    "### Model 7: Education Prediction using Uncontrollable Attributes"
   ]
  },
  {
   "cell_type": "code",
   "execution_count": 12,
   "id": "6d0c04f6-a5fa-4f5f-8fe1-50bae0cc1715",
   "metadata": {
    "tags": []
   },
   "outputs": [
    {
     "name": "stdout",
     "output_type": "stream",
     "text": [
      "x-hats: \n"
     ]
    },
    {
     "name": "stderr",
     "output_type": "stream",
     "text": [
      "\u001b[36m\u001b[1m[ \u001b[22m\u001b[39m\u001b[36m\u001b[1mInfo: \u001b[22m\u001b[39mSaved animation to C:\\Users\\bento\\OneDrive\\School Documents\\Spring 2023\\MAS 4106\\Final Project\\PlotModel7.gif\n"
     ]
    },
    {
     "data": {
      "text/plain": [
       "11×5 Matrix{Float64}:\n",
       " 13.042        12.8421       12.9898       12.9521       12.9683\n",
       " -2.72529      -2.54823      -2.78034      -2.54058      -2.71554\n",
       " -1.54074      -1.20605      -1.31554      -1.28039      -1.42323\n",
       "  0.915771      1.05491       1.04218       0.960519      0.844973\n",
       "  0.000450635   0.000442316   0.000469148   0.000448919   0.000443751\n",
       "  0.531306      0.627844      0.566011      0.484308      0.656186\n",
       "  0.877301      0.959581      0.81059       0.851015      1.0489\n",
       " -0.165588     -0.0937166    -0.282321     -0.282498     -0.0884536\n",
       " -0.0172389     0.049544     -0.0360075    -0.146895      0.0813923\n",
       "  0.02444       0.0579783     0.0472074     0.0487305     0.0593033\n",
       "  0.00543944    0.00496285    0.00380135    0.00461626    0.00456561"
      ]
     },
     "metadata": {},
     "output_type": "display_data"
    },
    {
     "name": "stdout",
     "output_type": "stream",
     "text": [
      "RMS errors: \n"
     ]
    },
    {
     "data": {
      "text/plain": [
       "2×5 Matrix{Float64}:\n",
       " 2.59927  2.61504  2.61426  2.60971  2.61775\n",
       " 2.65951  2.59675  2.60041  2.61835  2.58593"
      ]
     },
     "metadata": {},
     "output_type": "display_data"
    }
   ],
   "source": [
    "# Create the matrix for model 7\n",
    "Amod7 = [ones(m) natMatrix gdpClass./1000 raceMatrix sexClass ageClass]\n",
    "\n",
    "# Create a number storing the number of elements in each fold\n",
    "fold = div(m,5); \n",
    "\n",
    "# Create a random permutation of m-values\n",
    "I = Random.randperm(m);\n",
    "\n",
    "# Storage for cross-validation results\n",
    "xhats7 = zeros(11,5); \n",
    "rmsErrors7 = zeros(2,5);\n",
    "\n",
    "# For each fold, compute the appropriate model and store its error.\n",
    "anim = @animate for k = 1:5\n",
    "    \n",
    "    # Assign a random permutation into training and test data\n",
    "    if (k == 1) \n",
    "        Itest = I[1 : fold]; \n",
    "        Itrain = I[fold+1 : end];\n",
    "    elseif (k == 5)\n",
    "        Itest = I[4 * fold+1 : end]; \n",
    "        Itrain = I[1:4 * fold];\n",
    "    else \n",
    "        Itest = I[(k-1) * fold+1: k*fold];\n",
    "        Itrain = I[[1 : (k-1) * fold ; k * fold + 1 : m]];\n",
    "    end\n",
    "\n",
    "    #display(Itest);\n",
    "    #display(Itrain);\n",
    "    \n",
    "    # Compute sample sizes for training and test data\n",
    "    mTest = length(Itest);\n",
    "    mTrain = length(Itrain);\n",
    "\n",
    "    # Compute the model based on training data and store it\n",
    "    xhats7[:, k] = Amod7[Itrain, :] \\ eduClass[Itrain];\n",
    "\n",
    "    # Compute RMS errors for both training and test data\n",
    "    rmsErrors7[1,k] = norm(Amod7[Itrain,:] * xhats7[:, k] - eduClass[Itrain]) / sqrt(mTrain);\n",
    "    rmsErrors7[2,k] = norm(Amod7[Itest,:] * xhats7[:, k] - eduClass[Itest]) / sqrt(mTest);\n",
    "    \n",
    "    ## Plot actual (x) versus predicted (y) education\n",
    "    # Plot test data\n",
    "    tp7 = scatter(eduClass[Itest], Amod7[Itest, :] * xhats7[:, k], color=\"green1\", xlims=(0,25), ylims=(0,25), \n",
    "        title=\"Test data  \" * L\"(n=%$mTest)\", xlabel=\"Actual education (years)\", \n",
    "        ylabel=\"Predicted education (years)\", minorgrid=true)\n",
    "    plot!([0,25], [0,25], linestyle = :dash, linewidth=2, color=\"magenta\") # y=x line\n",
    "    \n",
    "    # Plot training data\n",
    "    p7 = scatter(eduClass[Itrain], Amod7[Itrain, :] * xhats7[:, k], color=\"green1\", xlims=(0,25), ylims=(0,25), \n",
    "        title=\"Training data  \" * L\"(n=%$mTrain)\", xlabel=\"Actual education (years)\", \n",
    "        ylabel=\"Predicted education (years)\", minorgrid=true)\n",
    "    plot!([0,25], [0,25], linestyle = :dash, linewidth=2, color=\"magenta\") # y=x line\n",
    "\n",
    "    plotModel7 = plot(tp7, p7, layout = (1, 2), legend=false, size=(1200, 620), margin=8mm,\n",
    "        plot_title=\"Education Prediction using Uncontrollable Attributes\")\n",
    "    annotate!(24, 1, [text(\"Fold \" * string(k), 9)])\n",
    "    savefig(plotModel7, \"PlotModel_7f\" * string(k) * \".png\")\n",
    "end\n",
    "\n",
    "gif(anim, \"PlotModel7.gif\", fps=1)\n",
    "\n",
    "println(\"x-hats: \"); display(xhats7);\n",
    "println(\"RMS errors: \"); display(rmsErrors7);"
   ]
  },
  {
   "cell_type": "markdown",
   "id": "0efe6856-5ce5-4d8e-be67-fdc284876b36",
   "metadata": {
    "tags": []
   },
   "source": [
    "### Model 8: Education Prediction using Controllable Attributes"
   ]
  },
  {
   "cell_type": "code",
   "execution_count": 13,
   "id": "751fdfda-cf60-4fd8-b15d-efccc2cddfb1",
   "metadata": {
    "tags": []
   },
   "outputs": [
    {
     "name": "stdout",
     "output_type": "stream",
     "text": [
      "x-hats: \n"
     ]
    },
    {
     "name": "stderr",
     "output_type": "stream",
     "text": [
      "\u001b[36m\u001b[1m[ \u001b[22m\u001b[39m\u001b[36m\u001b[1mInfo: \u001b[22m\u001b[39mSaved animation to C:\\Users\\bento\\OneDrive\\School Documents\\Spring 2023\\MAS 4106\\Final Project\\PlotModel8.gif\n"
     ]
    },
    {
     "data": {
      "text/plain": [
       "12×5 Matrix{Float64}:\n",
       " 13.66       13.9326     13.7272      13.4756     13.2811\n",
       "  0.0269376  -0.159536   -0.00540928   0.175995    0.377059\n",
       "  0.206359    0.0220225   0.19483      0.331483    0.571881\n",
       "  1.12609     0.92145     1.05968      1.27457     1.46885\n",
       "  0.35586     0.312465    0.355668     0.389984    0.292318\n",
       "  1.44653     1.34716     1.42166      1.44211     1.37869\n",
       "  1.68272     1.60611     1.6794       1.72613     1.63554\n",
       " -0.123143   -0.21425    -0.138179    -0.12817    -0.19682\n",
       "  0.449082    0.465503    0.440574     0.462135    0.475685\n",
       " -0.325552   -0.281961   -0.333268    -0.306792   -0.295237\n",
       " -1.71803    -1.71452    -1.73585     -1.69998    -1.70044\n",
       "  0.0151695   0.0145896   0.0153316    0.0151112   0.0163543"
      ]
     },
     "metadata": {},
     "output_type": "display_data"
    },
    {
     "name": "stdout",
     "output_type": "stream",
     "text": [
      "RMS errors: \n"
     ]
    },
    {
     "data": {
      "text/plain": [
       "2×5 Matrix{Float64}:\n",
       " 2.3983   2.39271  2.40507  2.40519  2.40855\n",
       " 2.41713  2.43938  2.39013  2.3897   2.37617"
      ]
     },
     "metadata": {},
     "output_type": "display_data"
    }
   ],
   "source": [
    "# Create the matrix for model 8\n",
    "Amod8 = [ones(m) workClassMatrix occMatrix marryMatrix incomeClass hrsPerWeekClass]\n",
    "\n",
    "# Create a number storing the number of elements in each fold\n",
    "fold = div(m,5); \n",
    "\n",
    "# Create a random permutation of m-values\n",
    "I = Random.randperm(m);\n",
    "\n",
    "# Storage for cross-validation results\n",
    "xhats8 = zeros(12,5); \n",
    "rmsErrors8 = zeros(2,5);\n",
    "\n",
    "# For each fold, compute the appropriate model and store its error.\n",
    "anim = @animate for k = 1:5\n",
    "    \n",
    "    # Assign a random permutation into training and test data\n",
    "    if (k == 1) \n",
    "        Itest = I[1 : fold]; \n",
    "        Itrain = I[fold+1 : end];\n",
    "    elseif (k == 5)\n",
    "        Itest = I[4 * fold+1 : end]; \n",
    "        Itrain = I[1:4 * fold];\n",
    "    else \n",
    "        Itest = I[(k-1) * fold+1: k*fold];\n",
    "        Itrain = I[[1 : (k-1) * fold ; k * fold + 1 : m]];\n",
    "    end\n",
    "\n",
    "    #display(Itest);\n",
    "    #display(Itrain);\n",
    "    \n",
    "    # Compute sample sizes for training and test data\n",
    "    mTest = length(Itest);\n",
    "    mTrain = length(Itrain);\n",
    "\n",
    "    # Compute the model based on training data and store it\n",
    "    xhats8[:, k] = Amod8[Itrain, :] \\ eduClass[Itrain];\n",
    "\n",
    "    # Compute RMS errors for both training and test data\n",
    "    rmsErrors8[1,k] = norm(Amod8[Itrain,:] * xhats8[:, k] - eduClass[Itrain]) / sqrt(mTrain);\n",
    "    rmsErrors8[2,k] = norm(Amod8[Itest,:] * xhats8[:, k] - eduClass[Itest]) / sqrt(mTest);\n",
    "    \n",
    "    ## Plot actual (x) versus predicted (y) education\n",
    "    # Plot test data\n",
    "    tp8 = scatter(eduClass[Itest], Amod8[Itest, :] * xhats8[:, k], color=\"darkturquoise\", xlims=(0,25), ylims=(0,25), \n",
    "        title=\"Test data  \" * L\"(n=%$mTest)\", xlabel=\"Actual education (years)\", \n",
    "        ylabel=\"Predicted education (years)\", minorgrid=true)\n",
    "    plot!([0,25], [0,25], linestyle = :dash, linewidth=2, color=\"magenta\") # y=x line\n",
    "    \n",
    "    # Plot training data\n",
    "    p8 = scatter(eduClass[Itrain], Amod8[Itrain, :] * xhats8[:, k], color=\"darkturquoise\", xlims=(0,25), ylims=(0,25), \n",
    "        title=\"Training data  \" * L\"(n=%$mTrain)\", xlabel=\"Actual education (years)\", \n",
    "        ylabel=\"Predicted education (years)\", minorgrid=true)\n",
    "    plot!([0,25], [0,25], linestyle = :dash, linewidth=2, color=\"magenta\") # y=x line\n",
    "\n",
    "    plotModel8 = plot(tp8, p8, layout = (1, 2), legend=false, size=(1200, 620), margin=8mm,\n",
    "        plot_title=\"Education Prediction using Controllable Attributes\")\n",
    "    annotate!(24, 1, [text(\"Fold \" * string(k), 9)])\n",
    "    savefig(plotModel8, \"PlotModel_8f\" * string(k) * \".png\")\n",
    "    \n",
    "end\n",
    "\n",
    "gif(anim, \"PlotModel8.gif\", fps=1)\n",
    "\n",
    "println(\"x-hats: \"); display(xhats8);\n",
    "println(\"RMS errors: \"); display(rmsErrors8);"
   ]
  },
  {
   "cell_type": "markdown",
   "id": "bee4bd48-1645-48c4-a262-44366f862592",
   "metadata": {
    "tags": []
   },
   "source": [
    "## Human Development Index Prediction Models Factoring Controllable and Uncontrollable Attributes"
   ]
  },
  {
   "cell_type": "markdown",
   "id": "ea2a498b-9409-481d-9833-01ffe716336c",
   "metadata": {
    "tags": []
   },
   "source": [
    "### Model 9: HDI Prediction using Uncontrollable Attributes"
   ]
  },
  {
   "cell_type": "code",
   "execution_count": 14,
   "id": "1c364bb9-b50c-4909-892a-b25e376710f9",
   "metadata": {
    "tags": []
   },
   "outputs": [
    {
     "name": "stdout",
     "output_type": "stream",
     "text": [
      "x-hats: \n"
     ]
    },
    {
     "name": "stderr",
     "output_type": "stream",
     "text": [
      "\u001b[36m\u001b[1m[ \u001b[22m\u001b[39m\u001b[36m\u001b[1mInfo: \u001b[22m\u001b[39mSaved animation to C:\\Users\\bento\\OneDrive\\School Documents\\Spring 2023\\MAS 4106\\Final Project\\PlotModel9.gif\n"
     ]
    },
    {
     "data": {
      "text/plain": [
       "11×5 Matrix{Float64}:\n",
       "  0.734605      0.731388     0.735059      0.73159       0.732135\n",
       " -0.109331     -0.10631     -0.108306     -0.10596      -0.108357\n",
       " -0.162632     -0.163177    -0.165195     -0.162463     -0.165344\n",
       " -0.176781     -0.173715    -0.175805     -0.174509     -0.175466\n",
       "  3.33779e-5    3.28499e-5   3.30788e-5    3.28604e-5    3.31983e-5\n",
       "  0.00261042    0.00661642   0.00329476    0.00611266    0.00555231\n",
       " -0.0068521    -0.00377317  -0.00513777   -0.00350446   -0.00411044\n",
       "  0.00351155    0.00787404   0.00429342    0.00726691    0.00628086\n",
       " -0.00155952    0.00256591  -0.000921422   0.00199949    0.00177733\n",
       "  0.000928655   0.00103772   0.000870598   0.000744114   0.000824427\n",
       "  3.55595e-5    3.59166e-5   3.61952e-5    3.46453e-5    3.23806e-5"
      ]
     },
     "metadata": {},
     "output_type": "display_data"
    },
    {
     "name": "stdout",
     "output_type": "stream",
     "text": [
      "RMS errors: \n"
     ]
    },
    {
     "data": {
      "text/plain": [
       "2×5 Matrix{Float64}:\n",
       " 0.0242693  0.0245628  0.0244332  0.0244039  0.0244891\n",
       " 0.0251116  0.0239289  0.0244464  0.0245669  0.0242223"
      ]
     },
     "metadata": {},
     "output_type": "display_data"
    }
   ],
   "source": [
    "# Create the matrix for model 9\n",
    "Amod9 = [ones(m) natMatrix gdpClass./1000 raceMatrix sexClass ageClass]\n",
    "\n",
    "# Create a number storing the number of elements in each fold\n",
    "fold = div(m,5); \n",
    "\n",
    "# Create a random permutation of m-values\n",
    "I = Random.randperm(m);\n",
    "\n",
    "# Storage for cross-validation results\n",
    "xhats9 = zeros(11,5); \n",
    "rmsErrors9 = zeros(2,5);\n",
    "\n",
    "# For each fold, compute the appropriate model and store its error.\n",
    "anim = @animate for k = 1:5\n",
    "    \n",
    "    # Assign a random permutation into training and test data\n",
    "    if (k == 1) \n",
    "        Itest = I[1 : fold]; \n",
    "        Itrain = I[fold+1 : end];\n",
    "    elseif (k == 5)\n",
    "        Itest = I[4 * fold+1 : end]; \n",
    "        Itrain = I[1:4 * fold];\n",
    "    else \n",
    "        Itest = I[(k-1) * fold+1: k*fold];\n",
    "        Itrain = I[[1 : (k-1) * fold ; k * fold + 1 : m]];\n",
    "    end\n",
    "\n",
    "    #display(Itest);\n",
    "    #display(Itrain);\n",
    "    \n",
    "    # Compute sample sizes for training and test data\n",
    "    mTest = length(Itest);\n",
    "    mTrain = length(Itrain);\n",
    "\n",
    "    # Compute the model based on training data and store it\n",
    "    xhats9[:, k] = Amod9[Itrain, :] \\ hdiClass[Itrain];\n",
    "\n",
    "    # Compute RMS errors for both training and test data\n",
    "    rmsErrors9[1,k] = norm(Amod9[Itrain,:] * xhats9[:, k] - hdiClass[Itrain]) / sqrt(mTrain);\n",
    "    rmsErrors9[2,k] = norm(Amod9[Itest,:] * xhats9[:, k] - hdiClass[Itest]) / sqrt(mTest);\n",
    "    \n",
    "    ## Plot actual (x) versus predicted (y) HDI\n",
    "    # Plot test data\n",
    "    tp9 = scatter(hdiClass[Itest], Amod9[Itest, :] * xhats9[:, k], color=\"tomato\", xlims=(0,1), ylims=(0,1), \n",
    "        title=\"Test data  \" * L\"(n=%$mTest)\", xlabel=\"Actual HDI\", \n",
    "        ylabel=\"Predicted HDI\", minorgrid=true)\n",
    "    plot!([0,1], [0,1], linestyle = :dash, linewidth=2, color=\"magenta\") # y=x line\n",
    "    \n",
    "    # Plot training data\n",
    "    p9 = scatter(hdiClass[Itrain], Amod9[Itrain, :] * xhats9[:, k], color=\"tomato\", xlims=(0,1), ylims=(0,1), \n",
    "        title=\"Training data  \" * L\"(n=%$mTrain)\", xlabel=\"Actual HDI\", \n",
    "        ylabel=\"Predicted HDI\", minorgrid=true)\n",
    "    plot!([0,1], [0,1], linestyle = :dash, linewidth=2, color=\"magenta\") # y=x line\n",
    "\n",
    "    plotModel9 = plot(tp9, p9, layout = (1, 2), legend=false, size=(1200, 620), margin=8mm,\n",
    "        plot_title=\"HDI Prediction using Uncontrollable Attributes\")\n",
    "    annotate!(0.96, 0.04, [text(\"Fold \" * string(k), 9)])\n",
    "    savefig(plotModel9, \"PlotModel_9f\" * string(k) * \".png\")\n",
    "    \n",
    "end\n",
    "\n",
    "gif(anim, \"PlotModel9.gif\", fps=1)\n",
    "\n",
    "println(\"x-hats: \"); display(xhats9);\n",
    "println(\"RMS errors: \"); display(rmsErrors9);"
   ]
  },
  {
   "cell_type": "markdown",
   "id": "afb693d3-27b0-4462-9361-a4a87de8666f",
   "metadata": {
    "tags": []
   },
   "source": [
    "### Model 10: HDI Prediction using Uncontrollable Attributes"
   ]
  },
  {
   "cell_type": "code",
   "execution_count": 15,
   "id": "75e9e3a3-560d-4655-9888-9686edbeaf02",
   "metadata": {
    "tags": []
   },
   "outputs": [
    {
     "name": "stdout",
     "output_type": "stream",
     "text": [
      "x-hats: \n"
     ]
    },
    {
     "name": "stderr",
     "output_type": "stream",
     "text": [
      "\u001b[36m\u001b[1m[ \u001b[22m\u001b[39m\u001b[36m\u001b[1mInfo: \u001b[22m\u001b[39mSaved animation to C:\\Users\\bento\\OneDrive\\School Documents\\Spring 2023\\MAS 4106\\Final Project\\PlotModel10.gif\n"
     ]
    },
    {
     "data": {
      "text/plain": [
       "12×5 Matrix{Float64}:\n",
       "  0.861265     0.860942     0.862458     0.869652      0.877466\n",
       " -0.00947663  -0.00920297  -0.0100243   -0.0117254    -0.0255398\n",
       " -0.00360414  -0.00397285  -0.00425637  -0.00650393   -0.0201163\n",
       " -0.00121374  -3.9252e-5   -0.00104057  -0.00372292   -0.0171936\n",
       "  0.00499996   0.00373109   0.00383222  -0.00113927    0.00396805\n",
       "  0.015298     0.0146859    0.0154276    0.00914442    0.015148\n",
       "  0.00959016   0.00903487   0.0108229    0.00467162    0.010078\n",
       "  0.00565312   0.00538433   0.00521983   0.000393631   0.00587724\n",
       " -0.005171    -0.0050621   -0.00467495  -0.00513698   -0.00546417\n",
       " -0.0111575   -0.0109958   -0.0120208   -0.011551     -0.0112966\n",
       " -0.00746344  -0.00768521  -0.00839229  -0.00827635   -0.00738626\n",
       "  6.00894e-5   7.13248e-5   6.40136e-5   6.6668e-5     6.37291e-5"
      ]
     },
     "metadata": {},
     "output_type": "display_data"
    },
    {
     "name": "stdout",
     "output_type": "stream",
     "text": [
      "RMS errors: \n"
     ]
    },
    {
     "data": {
      "text/plain": [
       "2×5 Matrix{Float64}:\n",
       " 0.069981   0.0700954  0.0697481  0.0698604  0.0695274\n",
       " 0.0693078  0.068842   0.0702504  0.0698064  0.0711094"
      ]
     },
     "metadata": {},
     "output_type": "display_data"
    }
   ],
   "source": [
    "# Create the matrix for model 10\n",
    "Amod10 = [ones(m) workClassMatrix occMatrix marryMatrix incomeClass hrsPerWeekClass]\n",
    "\n",
    "# Create a number storing the number of elements in each fold\n",
    "fold = div(m,5); \n",
    "\n",
    "# Create a random permutation of m-values\n",
    "I = Random.randperm(m);\n",
    "\n",
    "# Storage for cross-validation results\n",
    "xhats10 = zeros(12,5); \n",
    "rmsErrors10 = zeros(2,5);\n",
    "\n",
    "# For each fold, compute the appropriate model and store its error.\n",
    "anim = @animate for k = 1:5\n",
    "    \n",
    "    # Assign a random permutation into training and test data\n",
    "    if (k == 1) \n",
    "        Itest = I[1 : fold]; \n",
    "        Itrain = I[fold+1 : end];\n",
    "    elseif (k == 5)\n",
    "        Itest = I[4 * fold+1 : end]; \n",
    "        Itrain = I[1:4 * fold];\n",
    "    else \n",
    "        Itest = I[(k-1) * fold+1: k*fold];\n",
    "        Itrain = I[[1 : (k-1) * fold ; k * fold + 1 : m]];\n",
    "    end\n",
    "\n",
    "    #display(Itest);\n",
    "    #display(Itrain);\n",
    "    \n",
    "    # Compute sample sizes for training and test data\n",
    "    mTest = length(Itest);\n",
    "    mTrain = length(Itrain);\n",
    "\n",
    "    # Compute the model based on training data and store it\n",
    "    xhats10[:, k] = Amod10[Itrain, :] \\ hdiClass[Itrain];\n",
    "\n",
    "    # Compute RMS errors for both training and test data\n",
    "    rmsErrors10[1,k] = norm(Amod10[Itrain,:] * xhats10[:, k] - hdiClass[Itrain]) / sqrt(mTrain);\n",
    "    rmsErrors10[2,k] = norm(Amod10[Itest,:] * xhats10[:, k] - hdiClass[Itest]) / sqrt(mTest);\n",
    "    \n",
    "    ## Plot actual (x) versus predicted (y) HDI\n",
    "    # Plot test data\n",
    "    tp10 = scatter(hdiClass[Itest], Amod10[Itest, :] * xhats10[:, k], color=\"goldenrod\", xlims=(0,1), ylims=(0,1), \n",
    "        title=\"Test data  \" * L\"(n=%$mTest)\", xlabel=\"Actual HDI\", \n",
    "        ylabel=\"Predicted HDI\", minorgrid=true)\n",
    "    plot!([0,1], [0,1], linestyle = :dash, linewidth=2, color=\"magenta\") # y=x line\n",
    "    \n",
    "    # Plot training data\n",
    "    p10 = scatter(hdiClass[Itrain], Amod10[Itrain, :] * xhats10[:, k], color=\"goldenrod\", xlims=(0,1), ylims=(0,1), \n",
    "        title=\"Training data  \" * L\"(n=%$mTrain)\", xlabel=\"Actual HDI\", \n",
    "        ylabel=\"Predicted HDI\", minorgrid=true)\n",
    "    plot!([0,1], [0,1], linestyle = :dash, linewidth=2, color=\"magenta\") # y=x line\n",
    "\n",
    "    plotModel10 = plot(tp10, p10, layout = (1, 2), legend=false, size=(1200, 620), margin=8mm,\n",
    "        plot_title=\"HDI Prediction using Controllable Attributes\")\n",
    "    annotate!(24/25, 1/25, [text(\"Fold \" * string(k), 9)])\n",
    "    savefig(plotModel10, \"PlotModel_10f\" * string(k) * \".png\")\n",
    "    \n",
    "end\n",
    "\n",
    "gif(anim, \"PlotModel10.gif\", fps=1)\n",
    "\n",
    "println(\"x-hats: \"); display(xhats10);\n",
    "println(\"RMS errors: \"); display(rmsErrors10);"
   ]
  },
  {
   "cell_type": "code",
   "execution_count": null,
   "id": "cb0f7f9c-825c-4577-8410-c3ba1ebff662",
   "metadata": {},
   "outputs": [],
   "source": []
  }
 ],
 "metadata": {
  "kernelspec": {
   "display_name": "Julia 1.8.5",
   "language": "julia",
   "name": "julia-1.8"
  },
  "language_info": {
   "file_extension": ".jl",
   "mimetype": "application/julia",
   "name": "julia",
   "version": "1.8.5"
  }
 },
 "nbformat": 4,
 "nbformat_minor": 5
}
